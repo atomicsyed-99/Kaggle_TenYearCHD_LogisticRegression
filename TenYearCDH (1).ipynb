{
 "cells": [
  {
   "cell_type": "code",
   "execution_count": 11,
   "metadata": {},
   "outputs": [],
   "source": [
    "import pandas as pd\n",
    "import numpy as np\n",
    "import matplotlib.pyplot as plt\n",
    "import seaborn as sb\n",
    "from sklearn.linear_model import LinearRegression\n",
    "from sklearn.linear_model import LogisticRegression\n",
    "from sklearn.model_selection import train_test_split\n",
    "from sklearn.metrics import classification_report\n",
    "from pylab import rcParams\n",
    "\n",
    "\n"
   ]
  },
  {
   "cell_type": "markdown",
   "metadata": {},
   "source": [
    "In the above code block , we have imported all the required libraries for the Logistic Regression model we are going to prepare\n"
   ]
  },
  {
   "cell_type": "markdown",
   "metadata": {},
   "source": [
    "# Calling the Kaggle Framingham Dataset and Printing\n"
   ]
  },
  {
   "cell_type": "code",
   "execution_count": 5,
   "metadata": {},
   "outputs": [
    {
     "name": "stdout",
     "output_type": "stream",
     "text": [
      "      male  age  education  currentSmoker  cigsPerDay  BPMeds  \\\n",
      "0        1   39        4.0              0         0.0     0.0   \n",
      "1        0   46        2.0              0         0.0     0.0   \n",
      "2        1   48        1.0              1        20.0     0.0   \n",
      "3        0   61        3.0              1        30.0     0.0   \n",
      "4        0   46        3.0              1        23.0     0.0   \n",
      "...    ...  ...        ...            ...         ...     ...   \n",
      "4235     0   48        2.0              1        20.0     NaN   \n",
      "4236     0   44        1.0              1        15.0     0.0   \n",
      "4237     0   52        2.0              0         0.0     0.0   \n",
      "4238     1   40        3.0              0         0.0     0.0   \n",
      "4239     0   39        3.0              1        30.0     0.0   \n",
      "\n",
      "      prevalentStroke  prevalentHyp  diabetes  totChol  sysBP  diaBP    BMI  \\\n",
      "0                   0             0         0    195.0  106.0   70.0  26.97   \n",
      "1                   0             0         0    250.0  121.0   81.0  28.73   \n",
      "2                   0             0         0    245.0  127.5   80.0  25.34   \n",
      "3                   0             1         0    225.0  150.0   95.0  28.58   \n",
      "4                   0             0         0    285.0  130.0   84.0  23.10   \n",
      "...               ...           ...       ...      ...    ...    ...    ...   \n",
      "4235                0             0         0    248.0  131.0   72.0  22.00   \n",
      "4236                0             0         0    210.0  126.5   87.0  19.16   \n",
      "4237                0             0         0    269.0  133.5   83.0  21.47   \n",
      "4238                0             1         0    185.0  141.0   98.0  25.60   \n",
      "4239                0             0         0    196.0  133.0   86.0  20.91   \n",
      "\n",
      "      heartRate  glucose  TenYearCHD  \n",
      "0          80.0     77.0           0  \n",
      "1          95.0     76.0           0  \n",
      "2          75.0     70.0           0  \n",
      "3          65.0    103.0           1  \n",
      "4          85.0     85.0           0  \n",
      "...         ...      ...         ...  \n",
      "4235       84.0     86.0           0  \n",
      "4236       86.0      NaN           0  \n",
      "4237       80.0    107.0           0  \n",
      "4238       67.0     72.0           0  \n",
      "4239       85.0     80.0           0  \n",
      "\n",
      "[4240 rows x 16 columns]\n"
     ]
    }
   ],
   "source": [
    "\n",
    "df=pd.read_csv('framingham.csv')\n",
    "print(df)"
   ]
  },
  {
   "cell_type": "markdown",
   "metadata": {},
   "source": [
    "#  Exploratory Data Analysis and Data Cleaning"
   ]
  },
  {
   "cell_type": "code",
   "execution_count": 7,
   "metadata": {},
   "outputs": [
    {
     "name": "stdout",
     "output_type": "stream",
     "text": [
      "<class 'pandas.core.frame.DataFrame'>\n",
      "Int64Index: 3658 entries, 0 to 4239\n",
      "Data columns (total 16 columns):\n",
      "male               3658 non-null int64\n",
      "age                3658 non-null int64\n",
      "education          3658 non-null float64\n",
      "currentSmoker      3658 non-null int64\n",
      "cigsPerDay         3658 non-null float64\n",
      "BPMeds             3658 non-null float64\n",
      "prevalentStroke    3658 non-null int64\n",
      "prevalentHyp       3658 non-null int64\n",
      "diabetes           3658 non-null int64\n",
      "totChol            3658 non-null float64\n",
      "sysBP              3658 non-null float64\n",
      "diaBP              3658 non-null float64\n",
      "BMI                3658 non-null float64\n",
      "heartRate          3658 non-null float64\n",
      "glucose            3658 non-null float64\n",
      "TenYearCHD         3658 non-null int64\n",
      "dtypes: float64(9), int64(7)\n",
      "memory usage: 645.8 KB\n",
      "None\n",
      "      male  age  education  currentSmoker  cigsPerDay  BPMeds  \\\n",
      "0        1   39        4.0              0         0.0     0.0   \n",
      "1        0   46        2.0              0         0.0     0.0   \n",
      "2        1   48        1.0              1        20.0     0.0   \n",
      "3        0   61        3.0              1        30.0     0.0   \n",
      "4        0   46        3.0              1        23.0     0.0   \n",
      "...    ...  ...        ...            ...         ...     ...   \n",
      "4233     1   50        1.0              1         1.0     0.0   \n",
      "4234     1   51        3.0              1        43.0     0.0   \n",
      "4237     0   52        2.0              0         0.0     0.0   \n",
      "4238     1   40        3.0              0         0.0     0.0   \n",
      "4239     0   39        3.0              1        30.0     0.0   \n",
      "\n",
      "      prevalentStroke  prevalentHyp  diabetes  totChol  sysBP  diaBP    BMI  \\\n",
      "0                   0             0         0    195.0  106.0   70.0  26.97   \n",
      "1                   0             0         0    250.0  121.0   81.0  28.73   \n",
      "2                   0             0         0    245.0  127.5   80.0  25.34   \n",
      "3                   0             1         0    225.0  150.0   95.0  28.58   \n",
      "4                   0             0         0    285.0  130.0   84.0  23.10   \n",
      "...               ...           ...       ...      ...    ...    ...    ...   \n",
      "4233                0             1         0    313.0  179.0   92.0  25.97   \n",
      "4234                0             0         0    207.0  126.5   80.0  19.71   \n",
      "4237                0             0         0    269.0  133.5   83.0  21.47   \n",
      "4238                0             1         0    185.0  141.0   98.0  25.60   \n",
      "4239                0             0         0    196.0  133.0   86.0  20.91   \n",
      "\n",
      "      heartRate  glucose  TenYearCHD  \n",
      "0          80.0     77.0           0  \n",
      "1          95.0     76.0           0  \n",
      "2          75.0     70.0           0  \n",
      "3          65.0    103.0           1  \n",
      "4          85.0     85.0           0  \n",
      "...         ...      ...         ...  \n",
      "4233       66.0     86.0           1  \n",
      "4234       65.0     68.0           0  \n",
      "4237       80.0    107.0           0  \n",
      "4238       67.0     72.0           0  \n",
      "4239       85.0     80.0           0  \n",
      "\n",
      "[3658 rows x 16 columns]\n",
      "(3101, 16)\n",
      "(557, 16)\n",
      "(557, 16)\n",
      "(1114, 16)\n",
      "Index(['male', 'age', 'education', 'currentSmoker', 'cigsPerDay', 'BPMeds',\n",
      "       'prevalentStroke', 'prevalentHyp', 'diabetes', 'totChol', 'sysBP',\n",
      "       'diaBP', 'BMI', 'heartRate', 'glucose', 'TenYearCHD'],\n",
      "      dtype='object')\n"
     ]
    },
    {
     "data": {
      "image/png": "[encoded data removed]",
      "text/plain": [
       "<Figure size 432x288 with 1 Axes>"
      ]
     },
     "metadata": {
      "needs_background": "light"
     },
     "output_type": "display_data"
    }
   ],
   "source": [
    "print(df.info())\n",
    "df=df.dropna()\n",
    "print(df)\n",
    "sb.countplot(df['TenYearCHD'])# this is to check wether the dataset is imbalanced or balanced\n",
    "zero_df=df[df['TenYearCHD']==0]\n",
    "one_df=df[df['TenYearCHD']==1]\n",
    "print(zero_df.shape)\n",
    "print(one_df.shape)\n",
    "# after this you will observe that we have 3000 rows with output 1 and around 557 rows with output 0 , therefore the dataset is highly imbalanced\n",
    "zero_df=zero_df[:557]\n",
    "print(zero_df.shape)\n",
    "# so now we have a balanced dataset at hand\n",
    "df=zero_df\n",
    "df=df.append(one_df)\n",
    "print(df.shape)\n",
    "print(df.columns)"
   ]
  },
  {
   "cell_type": "markdown",
   "metadata": {},
   "source": [
    "# Splitting , Training and Testing"
   ]
  },
  {
   "cell_type": "code",
   "execution_count": 12,
   "metadata": {},
   "outputs": [
    {
     "name": "stdout",
     "output_type": "stream",
     "text": [
      "(835, 12)\n",
      "(279, 12)\n",
      "0.6227544910179641\n",
      "              precision    recall  f1-score   support\n",
      "\n",
      "           0       0.68      0.66      0.67       136\n",
      "           1       0.69      0.71      0.70       143\n",
      "\n",
      "    accuracy                           0.68       279\n",
      "   macro avg       0.68      0.68      0.68       279\n",
      "weighted avg       0.68      0.68      0.68       279\n",
      "\n"
     ]
    },
    {
     "name": "stderr",
     "output_type": "stream",
     "text": [
      "c:\\users\\syed ishtiyaq ahmed\\appdata\\local\\programs\\python\\python37\\lib\\site-packages\\sklearn\\utils\\validation.py:760: DataConversionWarning: A column-vector y was passed when a 1d array was expected. Please change the shape of y to (n_samples, ), for example using ravel().\n",
      "  y = column_or_1d(y, warn=True)\n",
      "c:\\users\\syed ishtiyaq ahmed\\appdata\\local\\programs\\python\\python37\\lib\\site-packages\\sklearn\\linear_model\\_logistic.py:940: ConvergenceWarning: lbfgs failed to converge (status=1):\n",
      "STOP: TOTAL NO. of ITERATIONS REACHED LIMIT.\n",
      "\n",
      "Increase the number of iterations (max_iter) or scale the data as shown in:\n",
      "    https://scikit-learn.org/stable/modules/preprocessing.html\n",
      "Please also refer to the documentation for alternative solver options:\n",
      "    https://scikit-learn.org/stable/modules/linear_model.html#logistic-regression\n",
      "  extra_warning_msg=_LOGISTIC_SOLVER_CONVERGENCE_MSG)\n"
     ]
    },
    {
     "data": {
      "image/png": "[encoded data removed]",
      "text/plain": [
       "<Figure size 432x288 with 2 Axes>"
      ]
     },
     "metadata": {
      "needs_background": "light"
     },
     "output_type": "display_data"
    }
   ],
   "source": [
    "X=df[['male', 'cigsPerDay', 'BPMeds',\n",
    "       'prevalentStroke', 'prevalentHyp', 'diabetes', 'totChol', 'sysBP',\n",
    "       'diaBP', 'BMI', 'heartRate', 'glucose']].values\n",
    "y=df[['TenYearCHD']].values\n",
    "#therefore , we are assigning our features and label as X and Y respectively\n",
    "sb.heatmap(df[['male', 'age', 'currentSmoker', 'cigsPerDay', 'BPMeds',\n",
    "       'prevalentStroke', 'prevalentHyp', 'diabetes', 'totChol', 'sysBP',\n",
    "       'diaBP', 'BMI', 'heartRate', 'glucose']].corr())\n",
    "# the heatmap generated helps us to understand the level of correlation between  the different features of the dataset.\n",
    "# removing highly correlated features from the dataset may increase or decrease the accuracy of our model , but the accuracy value will be correct and genuine\n",
    "# if the overall accuracy decreases , it means previously we were \"overfitting\" the model\n",
    "X_train,X_test,y_train,y_test=train_test_split(X,y)\n",
    "#we are splitting the dataset into training and testing data\n",
    "print(X_train.shape)\n",
    "print(X_test.shape)\n",
    "# usually the training-testing split is 80%-20% but we can always change\n",
    "#fitting the training data to our model\n",
    "LogReg=LogisticRegression()\n",
    "LogReg.fit(X_train,y_train)\n",
    "print(LogReg.score(X_train,y_train))\n",
    "# printing the accuracy of our model on the train data\n",
    "y_pred=LogReg.predict(X_test)# predicting the classifications on the X_test data , this data has not been seen by our model before\n",
    "print(classification_report(y_test,y_pred))# classification report displaying the precision,recall,F1 and support scores for the model\n",
    "\n"
   ]
  },
  {
   "cell_type": "markdown",
   "metadata": {},
   "source": []
  },
  {
   "cell_type": "code",
   "execution_count": null,
   "metadata": {},
   "outputs": [],
   "source": [
    "\n"
   ]
  },
  {
   "cell_type": "code",
   "execution_count": null,
   "metadata": {},
   "outputs": [],
   "source": []
  }
 ],
 "metadata": {
  "kernelspec": {
   "display_name": "Python 3",
   "language": "python",
   "name": "python3"
  },
  "language_info": {
   "codemirror_mode": {
    "name": "ipython",
    "version": 3
   },
   "file_extension": ".py",
   "mimetype": "text/x-python",
   "name": "python",
   "nbconvert_exporter": "python",
   "pygments_lexer": "ipython3",
   "version": "3.7.4"
  }
 },
 "nbformat": 4,
 "nbformat_minor": 4
}
